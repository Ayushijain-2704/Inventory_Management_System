{
  "nbformat": 4,
  "nbformat_minor": 0,
  "metadata": {
    "colab": {
      "name": "EliteProj.ipynb",
      "provenance": []
    },
    "kernelspec": {
      "name": "python3",
      "display_name": "Python 3"
    },
    "language_info": {
      "name": "python"
    }
  },
  "cells": [
    {
      "cell_type": "code",
      "metadata": {
        "id": "gShO_8TQ7j7y"
      },
      "source": [
        "from json import *\n",
        "from datetime import date"
      ],
      "execution_count": 1,
      "outputs": []
    },
    {
      "cell_type": "code",
      "metadata": {
        "id": "X3cOf0hY8KPG"
      },
      "source": [
        "def show_stock():\n",
        "    #global data\n",
        "    low_stock=[]\n",
        "    print()\n",
        "    for d in data:\n",
        "        print(d , \" : \" ,\" \"*(20-len(d)), data[d]['Quantity'])\n",
        "        if data[d]['Quantity']<=50:\n",
        "            low_stock.append((d,data[d]['Quantity']))\n",
        "    print(\"\\n-----------------------------| STOCK STATUS |--------------------------------\")\n",
        "    print(\"------------------------------**************---------------------------------\")\n",
        "    if len(low_stock)!=0:\n",
        "        print(\"\\nWARNING !!!    We have some item in low stock below, order it as soon as possible (item,Quantity):\")\n",
        "        print(*low_stock,end=\"\\n\")\n",
        "    else:\n",
        "        print(\"\\nHey, We have all items in good stock...\")"
      ],
      "execution_count": 2,
      "outputs": []
    },
    {
      "cell_type": "code",
      "metadata": {
        "id": "bPjU1bxz8Ky0"
      },
      "source": [
        "def add_stock():\n",
        "    global data\n",
        "    while True:\n",
        "        itm = input(\"Enter the item to add in stock: \")\n",
        "        qn = int(input(\"Enter the quantity of item: \"))\n",
        "        if itm in data:\n",
        "            print(data[itm]['Quantity'])\n",
        "            data[itm]['Quantity'] += qn\n",
        "            print(data[itm]['Quantity'])\n",
        "            print(\"Quantity Added to the Item...\")\n",
        "        else:\n",
        "            print(\"\\nNew item arrived!, Please provide more information below to add this item: \")\n",
        "            pid=4000+len(data)+1\n",
        "            cat=input(\"category of the item: \")\n",
        "            pr= int(input(\"Price of item per unit: \"))\n",
        "            dis=int(input(\"Discount for this item: \"))\n",
        "            data[itm]={'category': cat, 'id': pid, 'price': pr, 'Quantity': qn, 'discount': dis}\n",
        "            print(\"New Item Added in your stock !!!\")\n",
        "        retrn_data()\n",
        "        rp6 = int(input(\"press 1 for add more items (press 0 to exit:) \"))\n",
        "        if rp6 == 1:\n",
        "            continue\n",
        "        else:\n",
        "            break"
      ],
      "execution_count": 3,
      "outputs": []
    },
    {
      "cell_type": "code",
      "metadata": {
        "id": "lgfVjXpi8Z1j"
      },
      "source": [
        "def show_sold():\n",
        "    global sold_items\n",
        "    if len(sold_items)==0:\n",
        "        print(\"\\nNo Items sold yet...\")\n",
        "    else:\n",
        "        for sitm in sold_items:\n",
        "            print(sitm, \" : \", \" \" * (16 - len(sitm)), sold_items[sitm])\n",
        "    rp7=int(input(\"press 1 to reset the sold items record/ 0 to exit: \"))\n",
        "    if rp7==1:\n",
        "        rp8=int(input(\"Are you sure you want to RESET the sold record: press 1 to RESET/ 0 TO exit: \"))\n",
        "        if rp8==1:\n",
        "            sold_items.clear()\n",
        "    exit()"
      ],
      "execution_count": 4,
      "outputs": []
    },
    {
      "cell_type": "code",
      "metadata": {
        "id": "V8hN0vhG8gtf"
      },
      "source": [
        "def purchase():\n",
        "    global cart\n",
        "    global data\n",
        "    while True:\n",
        "        print(\"----------------------------------------------------------------------------------\")\n",
        "        item=input(\"\\nAdd the item you want to purchase in your cart from the above menu (press 0 for exit): \")\n",
        "        if item=='0':\n",
        "            print(\"You dont have anything in your cart !!!\")\n",
        "            exit()\n",
        "        if item not in data:\n",
        "            print(\"-- This item is not being sell in this store --\")\n",
        "            rp1=input(\"Do You want to continue your shopping here: press 1 for Yes/ 0 for No: \")\n",
        "            if rp1=='1':\n",
        "                purchase()\n",
        "            else:\n",
        "                checkout()\n",
        "                break\n",
        "        else:\n",
        "            while True:\n",
        "                quantity= int(input(\"Enter the Quantity here: \"))\n",
        "                if quantity>data[item]['Quantity']:\n",
        "                    print(\"Item is not available in this quantity for now, you can purchase it maximum {} \".format(data[item]['Quantity']))\n",
        "                    rp2=input(\"Do yo want to going with same item ? Yes/No: \")\n",
        "                    if rp2=='Yes':\n",
        "                        continue\n",
        "                    else:\n",
        "                        checkout()\n",
        "                        break\n",
        "                else:\n",
        "                    cart.append((item,quantity))\n",
        "                    rp3=input(\"Item added to your cart !, add more item say YES /(press 0 for checkout): \")\n",
        "                    if rp3=='0':\n",
        "                        checkout()\n",
        "                        break\n",
        "                    else:\n",
        "                        purchase()"
      ],
      "execution_count": 5,
      "outputs": []
    },
    {
      "cell_type": "code",
      "metadata": {
        "id": "iItyf4qw8hbG"
      },
      "source": [
        "def retrn_data():\n",
        "    global data\n",
        "    global sold_items\n",
        "    js = dumps(data)\n",
        "    fil = open(\"stock_file.txt\", \"w+\")\n",
        "    fil.write(js)\n",
        "    fil.close()\n",
        "    js2=dumps(sold_items)\n",
        "    fil2 =open(\"sold_stock.txt\", \"w+\")\n",
        "    fil2.write(js2)\n",
        "    fil2.close()"
      ],
      "execution_count": 6,
      "outputs": []
    },
    {
      "cell_type": "code",
      "metadata": {
        "id": "03eXE0-78k4M"
      },
      "source": [
        "def dec_stock():\n",
        "    global data\n",
        "    global cart\n",
        "    global sold_items\n",
        "    for i,q in cart:\n",
        "        data[i]['Quantity']-=q\n",
        "        if i in sold_items:\n",
        "            sold_items[i]+=q\n",
        "        else:\n",
        "            sold_items[i]=q\n",
        "    retrn_data()"
      ],
      "execution_count": 7,
      "outputs": []
    },
    {
      "cell_type": "code",
      "metadata": {
        "id": "kleG2BgA8q8z"
      },
      "source": [
        "def checkout():\n",
        "    global data\n",
        "    global cart\n",
        "    tot=0\n",
        "    dis=0\n",
        "    carts=[]\n",
        "    if len(cart)>0:\n",
        "        print(\"\\n\\n----------------------- GET YOUR BILL-------------------------\\n\")\n",
        "        print(\"Your cart is (item, quantity): \")\n",
        "        print(*cart,\"\\n\")\n",
        "        print(\"------*******************************------\\n\")\n",
        "        #print(\"\\n----------\")\n",
        "        for i,q in cart:\n",
        "            dis=((data[i]['discount']/100)*(q*data[i]['price']))\n",
        "            tot+=(q*data[i]['price'])\n",
        "            carts.append((i,q,q*data[i]['price'],data[i]['price'],))\n",
        "        print(\"----****  Your GRAND TOTAL is: â‚¹ {} /- ****----\".format(tot-dis))\n",
        "        print(\"-------------------------------------------------------------\\n\")\n",
        "        #print(\"----***************************----\\n\")\n",
        "        print(\"-------Your Total detail as below------- \")\n",
        "        print(\"    ********************************\\n\")\n",
        "        today= date.today()\n",
        "        d2= today.strftime(\"%B %d,%Y\")\n",
        "        print(\"Your Billing Date is: \",d2)\n",
        "        print()\n",
        "        c=0\n",
        "        for it,qn,p,pr in carts:\n",
        "            c+=1\n",
        "            print(\"{}. {} {} for {} /- : ({} * {})\".format(c,qn,it,p,qn,pr))\n",
        "        print()\n",
        "        print(\" Total cart value is:----------------------------  {} /-\".format(tot))\n",
        "        print(\" Total discount value is:------------------------ -{} /-\".format(dis))\n",
        "        print(\"\\nThanks for shopping here: Have a Good Day...\")\n",
        "        dec_stock()\n",
        "        cart.clear()\n",
        "    else:\n",
        "        rp4=input(\"You dont have anything in cart, Do you want to purchase? yes/no: \")\n",
        "        if rp4=='yes':\n",
        "            purchase()\n",
        "        else:\n",
        "            exit()"
      ],
      "execution_count": 8,
      "outputs": []
    },
    {
      "cell_type": "code",
      "metadata": {
        "id": "kYc03uFO9HhQ"
      },
      "source": [
        "cart=[]"
      ],
      "execution_count": 9,
      "outputs": []
    },
    {
      "cell_type": "code",
      "metadata": {
        "id": "R2Pv8FhO9IjP"
      },
      "source": [
        "file=open(\"stock_file.txt\",\"r+\")\n",
        "js= file.read()\n",
        "file.close()"
      ],
      "execution_count": 10,
      "outputs": []
    },
    {
      "cell_type": "code",
      "metadata": {
        "id": "oLoEDT5K9LcR"
      },
      "source": [
        "data=loads(js)"
      ],
      "execution_count": 11,
      "outputs": []
    },
    {
      "cell_type": "code",
      "metadata": {
        "id": "0xzdqdOa9ORU"
      },
      "source": [
        "file2=open(\"sold_stock.txt\",\"r+\")\n",
        "js2= file2.read()\n",
        "file2.close()"
      ],
      "execution_count": 12,
      "outputs": []
    },
    {
      "cell_type": "code",
      "metadata": {
        "id": "CGLzvkzI9RUi"
      },
      "source": [
        "sold_items=loads(js2)"
      ],
      "execution_count": 13,
      "outputs": []
    },
    {
      "cell_type": "code",
      "metadata": {
        "id": "8jvnKCdR9UGF"
      },
      "source": [
        "rp=input(\"Enter as staff / User ?(press s for staff / u for user): \")\n",
        "if rp=='s':\n",
        "    rp5=int(input(\"1. press 1 for check stock \\n2. press 2 for add items to stock \\n3. press 3 to print Sold Items: \"))\n",
        "    if rp5==1:\n",
        "        show_stock()\n",
        "    elif rp5==2:\n",
        "        add_stock()\n",
        "    elif rp5==3:\n",
        "        show_sold()\n",
        "else:\n",
        "    print(\"ITEM\", \"                        \", \"PRICE\", \"         \", \"TODAY DISCOUNT\")\n",
        "    print(\"--------------------------------------------------------------------\\n\")\n",
        "    for i in data:\n",
        "        print(i, \" \" * (30 - len(i)), str(data[i]['price']), \" \" * (20 - len(str(data[i]['price']))),\n",
        "              str(data[i]['discount']) + \"%\")\n",
        "    purchase()"
      ],
      "execution_count": null,
      "outputs": []
    }
  ]
}